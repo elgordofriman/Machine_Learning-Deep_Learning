{
 "cells": [
  {
   "cell_type": "code",
   "execution_count": 1,
   "metadata": {},
   "outputs": [],
   "source": [
    "import numpy as np\n",
    "import matplotlib.pyplot as plt\n",
    "import pandas as pd  "
   ]
  },
  {
   "cell_type": "code",
   "execution_count": 2,
   "metadata": {},
   "outputs": [],
   "source": [
    "training_set = pd.read_csv(\"Google_Stock_Price_Train.csv\")\n",
    "training_set = training_set.iloc[:,1:2].values  \n"
   ]
  },
  {
   "cell_type": "code",
   "execution_count": 3,
   "metadata": {},
   "outputs": [],
   "source": [
    "from sklearn.preprocessing import MinMaxScaler \n",
    "sc = MinMaxScaler()\n",
    "training_set = sc.fit_transform(training_set) "
   ]
  },
  {
   "cell_type": "code",
   "execution_count": 4,
   "metadata": {},
   "outputs": [
    {
     "data": {
      "text/plain": [
       "array([[0.08581368],\n",
       "       [0.09701243],\n",
       "       [0.09433366],\n",
       "       ...,\n",
       "       [0.95725128],\n",
       "       [0.93796041],\n",
       "       [0.93688146]])"
      ]
     },
     "execution_count": 4,
     "metadata": {},
     "output_type": "execute_result"
    }
   ],
   "source": [
    "training_set "
   ]
  },
  {
   "cell_type": "code",
   "execution_count": 6,
   "metadata": {},
   "outputs": [],
   "source": [
    "x_train = training_set[0:1257]\n",
    "y_train = training_set[1:1258] \n"
   ]
  },
  {
   "cell_type": "code",
   "execution_count": 7,
   "metadata": {},
   "outputs": [],
   "source": [
    "x_train = np.reshape(x_train,(1257, 1, 1))"
   ]
  },
  {
   "cell_type": "code",
   "execution_count": 9,
   "metadata": {},
   "outputs": [
    {
     "data": {
      "text/plain": [
       "1257"
      ]
     },
     "execution_count": 9,
     "metadata": {},
     "output_type": "execute_result"
    }
   ],
   "source": [
    "x_train.size  "
   ]
  },
  {
   "cell_type": "code",
   "execution_count": 10,
   "metadata": {},
   "outputs": [
    {
     "name": "stderr",
     "output_type": "stream",
     "text": [
      "Using TensorFlow backend.\n"
     ]
    }
   ],
   "source": [
    "from keras.models import Sequential\n",
    "from keras.layers import Dense\n",
    "from keras.layers import LSTM "
   ]
  },
  {
   "cell_type": "code",
   "execution_count": 11,
   "metadata": {},
   "outputs": [],
   "source": [
    "regressor = Sequential()"
   ]
  },
  {
   "cell_type": "code",
   "execution_count": 12,
   "metadata": {},
   "outputs": [
    {
     "name": "stdout",
     "output_type": "stream",
     "text": [
      "WARNING:tensorflow:From C:\\Users\\User\\Anaconda3\\lib\\site-packages\\tensorflow\\python\\framework\\op_def_library.py:263: colocate_with (from tensorflow.python.framework.ops) is deprecated and will be removed in a future version.\n",
      "Instructions for updating:\n",
      "Colocations handled automatically by placer.\n"
     ]
    }
   ],
   "source": [
    "regressor.add(LSTM(units = 4, activation = \"sigmoid\", input_shape = (None,1))) "
   ]
  },
  {
   "cell_type": "code",
   "execution_count": 14,
   "metadata": {},
   "outputs": [],
   "source": [
    "regressor.add(Dense(units = 1)) "
   ]
  },
  {
   "cell_type": "code",
   "execution_count": 15,
   "metadata": {},
   "outputs": [],
   "source": [
    "regressor.compile(optimizer = \"adam\", loss = \"mean_squared_error\") "
   ]
  },
  {
   "cell_type": "code",
   "execution_count": 16,
   "metadata": {},
   "outputs": [
    {
     "name": "stdout",
     "output_type": "stream",
     "text": [
      "WARNING:tensorflow:From C:\\Users\\User\\Anaconda3\\lib\\site-packages\\tensorflow\\python\\ops\\math_ops.py:3066: to_int32 (from tensorflow.python.ops.math_ops) is deprecated and will be removed in a future version.\n",
      "Instructions for updating:\n",
      "Use tf.cast instead.\n",
      "Epoch 1/200\n",
      "1257/1257 [==============================] - 14s 11ms/step - loss: 0.2687\n",
      "Epoch 2/200\n",
      "1257/1257 [==============================] - 2s 1ms/step - loss: 0.1923A: 0s - los\n",
      "Epoch 3/200\n",
      "1257/1257 [==============================] - 1s 676us/step - loss: 0.1404 0s - loss: 0.14\n",
      "Epoch 4/200\n",
      "1257/1257 [==============================] - 1s 765us/step - loss: 0.1063\n",
      "Epoch 5/200\n",
      "1257/1257 [==============================] - 1s 821us/step - loss: 0.0857\n",
      "Epoch 6/200\n",
      "1257/1257 [==============================] - 1s 677us/step - loss: 0.0739\n",
      "Epoch 7/200\n",
      "1257/1257 [==============================] - 1s 744us/step - loss: 0.0674 0s - loss: 0\n",
      "Epoch 8/200\n",
      "1257/1257 [==============================] - 1s 683us/step - loss: 0.0640\n",
      "Epoch 9/200\n",
      "1257/1257 [==============================] - 1s 643us/step - loss: 0.0622\n",
      "Epoch 10/200\n",
      "1257/1257 [==============================] - 1s 724us/step - loss: 0.0610\n",
      "Epoch 11/200\n",
      "1257/1257 [==============================] - 1s 907us/step - loss: 0.0600\n",
      "Epoch 12/200\n",
      "1257/1257 [==============================] - 1s 829us/step - loss: 0.0590\n",
      "Epoch 13/200\n",
      "1257/1257 [==============================] - 1s 665us/step - loss: 0.0580\n",
      "Epoch 14/200\n",
      "1257/1257 [==============================] - 1s 1ms/step - loss: 0.0571\n",
      "Epoch 15/200\n",
      "1257/1257 [==============================] - 1s 1ms/step - loss: 0.0560\n",
      "Epoch 16/200\n",
      "  32/1257 [..............................] - ETA: 0s - loss: 0.0563"
     ]
    },
    {
     "name": "stderr",
     "output_type": "stream",
     "text": [
      "C:\\Users\\User\\Anaconda3\\lib\\site-packages\\keras\\callbacks.py:122: UserWarning: Method on_batch_end() is slow compared to the batch update (0.628000). Check your callbacks.\n",
      "  % delta_t_median)\n"
     ]
    },
    {
     "name": "stdout",
     "output_type": "stream",
     "text": [
      " 288/1257 [=====>........................] - ETA: 5s - loss: 0.0512"
     ]
    },
    {
     "name": "stderr",
     "output_type": "stream",
     "text": [
      "C:\\Users\\User\\Anaconda3\\lib\\site-packages\\keras\\callbacks.py:122: UserWarning: Method on_batch_end() is slow compared to the batch update (0.700650). Check your callbacks.\n",
      "  % delta_t_median)\n",
      "C:\\Users\\User\\Anaconda3\\lib\\site-packages\\keras\\callbacks.py:122: UserWarning: Method on_batch_end() is slow compared to the batch update (0.317004). Check your callbacks.\n",
      "  % delta_t_median)\n"
     ]
    },
    {
     "name": "stdout",
     "output_type": "stream",
     "text": [
      "1257/1257 [==============================] - 3s 2ms/step - loss: 0.0549\n",
      "Epoch 17/200\n",
      "1257/1257 [==============================] - 1s 881us/step - loss: 0.0538\n",
      "Epoch 18/200\n",
      "1257/1257 [==============================] - 2s 1ms/step - loss: 0.0526\n",
      "Epoch 19/200\n",
      "1257/1257 [==============================] - 1s 1ms/step - loss: 0.0514\n",
      "Epoch 20/200\n",
      "1257/1257 [==============================] - 1s 1ms/step - loss: 0.0502\n",
      "Epoch 21/200\n",
      "1257/1257 [==============================] - 1s 1ms/step - loss: 0.0489\n",
      "Epoch 22/200\n",
      "1257/1257 [==============================] - 1s 918us/step - loss: 0.0476\n",
      "Epoch 23/200\n",
      "1257/1257 [==============================] - 1s 1ms/step - loss: 0.0463\n",
      "Epoch 24/200\n",
      "1257/1257 [==============================] - 1s 897us/step - loss: 0.0449\n",
      "Epoch 25/200\n",
      "1257/1257 [==============================] - 1s 1ms/step - loss: 0.0435\n",
      "Epoch 26/200\n",
      "1257/1257 [==============================] - 1s 945us/step - loss: 0.0421 0s - l\n",
      "Epoch 27/200\n",
      "1257/1257 [==============================] - 1s 975us/step - loss: 0.0406 0s\n",
      "Epoch 28/200\n",
      "1257/1257 [==============================] - 1s 741us/step - loss: 0.0391\n",
      "Epoch 29/200\n",
      "1257/1257 [==============================] - 1s 1ms/step - loss: 0.0376\n",
      "Epoch 30/200\n",
      "1257/1257 [==============================] - 1s 1ms/step - loss: 0.0361\n",
      "Epoch 31/200\n",
      "1257/1257 [==============================] - 2s 1ms/step - loss: 0.0346A: 1s - loss - ETA: 0s - loss: \n",
      "Epoch 32/200\n",
      "1257/1257 [==============================] - 1s 933us/step - loss: 0.0330 0s - loss\n",
      "Epoch 33/200\n",
      "1257/1257 [==============================] - 1s 755us/step - loss: 0.0314\n",
      "Epoch 34/200\n",
      "1257/1257 [==============================] - 1s 1ms/step - loss: 0.0299\n",
      "Epoch 35/200\n",
      "1257/1257 [==============================] - 2s 1ms/step - loss: 0.0284A: 0s - loss: \n",
      "Epoch 36/200\n",
      "1257/1257 [==============================] - 1s 1ms/step - loss: 0.0268\n",
      "Epoch 37/200\n",
      " 224/1257 [====>.........................] - ETA: 1s - loss: 0.0246"
     ]
    },
    {
     "name": "stderr",
     "output_type": "stream",
     "text": [
      "C:\\Users\\User\\Anaconda3\\lib\\site-packages\\keras\\callbacks.py:122: UserWarning: Method on_batch_end() is slow compared to the batch update (0.108007). Check your callbacks.\n",
      "  % delta_t_median)\n"
     ]
    },
    {
     "name": "stdout",
     "output_type": "stream",
     "text": [
      "1257/1257 [==============================] - 2s 1ms/step - loss: 0.0253A: 0s - loss: 0.\n",
      "Epoch 38/200\n",
      "1257/1257 [==============================] - 1s 920us/step - loss: 0.0238\n",
      "Epoch 39/200\n",
      "1257/1257 [==============================] - 1s 1ms/step - loss: 0.0223\n",
      "Epoch 40/200\n",
      "1257/1257 [==============================] - 1s 1ms/step - loss: 0.0209\n",
      "Epoch 41/200\n",
      "1257/1257 [==============================] - 1s 1ms/step - loss: 0.0194\n",
      "Epoch 42/200\n",
      "1257/1257 [==============================] - 1s 775us/step - loss: 0.0180\n",
      "Epoch 43/200\n",
      "1257/1257 [==============================] - ETA: 0s - loss: 0.016 - 1s 1ms/step - loss: 0.0167\n",
      "Epoch 44/200\n",
      "1257/1257 [==============================] - 1s 1ms/step - loss: 0.0153\n",
      "Epoch 45/200\n",
      "1257/1257 [==============================] - 1s 944us/step - loss: 0.0140\n",
      "Epoch 46/200\n",
      "1257/1257 [==============================] - 2s 1ms/step - loss: 0.0128\n",
      "Epoch 47/200\n",
      "1257/1257 [==============================] - 1s 1ms/step - loss: 0.0117A: 0s - loss: 0 - ETA: 0s - loss: 0.01\n",
      "Epoch 48/200\n",
      "1257/1257 [==============================] - 1s 768us/step - loss: 0.0106\n",
      "Epoch 49/200\n",
      "1257/1257 [==============================] - 1s 857us/step - loss: 0.0095 0s - loss: 0.00\n",
      "Epoch 50/200\n",
      "1257/1257 [==============================] - 1s 731us/step - loss: 0.0086 0s - l\n",
      "Epoch 51/200\n",
      "1257/1257 [==============================] - 1s 852us/step - loss: 0.0077\n",
      "Epoch 52/200\n",
      "1257/1257 [==============================] - 1s 975us/step - loss: 0.0068\n",
      "Epoch 53/200\n",
      "1257/1257 [==============================] - 1s 1ms/step - loss: 0.0060\n",
      "Epoch 54/200\n",
      "1257/1257 [==============================] - 1s 1ms/step - loss: 0.0053\n",
      "Epoch 55/200\n",
      "1257/1257 [==============================] - 1s 1ms/step - loss: 0.0047\n",
      "Epoch 56/200\n",
      " 224/1257 [====>.........................] - ETA: 1s - loss: 0.004"
     ]
    },
    {
     "name": "stderr",
     "output_type": "stream",
     "text": [
      "C:\\Users\\User\\Anaconda3\\lib\\site-packages\\keras\\callbacks.py:122: UserWarning: Method on_batch_end() is slow compared to the batch update (0.109001). Check your callbacks.\n",
      "  % delta_t_median)\n"
     ]
    },
    {
     "name": "stdout",
     "output_type": "stream",
     "text": [
      "1257/1257 [==============================] - 1s 1ms/step - loss: 0.0041\n",
      "Epoch 57/200\n",
      "1257/1257 [==============================] - 1s 768us/step - loss: 0.0036 0s - \n",
      "Epoch 58/200\n",
      "1257/1257 [==============================] - 1s 932us/step - loss: 0.0031\n",
      "Epoch 59/200\n",
      "1257/1257 [==============================] - 1s 1ms/step - loss: 0.0027A: 0s - lo\n",
      "Epoch 60/200\n",
      "1257/1257 [==============================] - 1s 1ms/step - loss: 0.0023\n",
      "Epoch 61/200\n",
      "1257/1257 [==============================] - 1s 1ms/step - loss: 2.5199e-04\n",
      "Epoch 178/200\n",
      "1257/1257 [==============================] - 1s 889us/step - loss: 2.5229e-04\n",
      "Epoch 179/200\n",
      "1257/1257 [==============================] - 1s 746us/step - loss: 2.5079e-04\n",
      "Epoch 180/200\n",
      "1257/1257 [==============================] - 1s 931us/step - loss: 2.5273e-04\n",
      "Epoch 181/200\n",
      "1257/1257 [==============================] - 1s 939us/step - loss: 2.5071e-04\n",
      "Epoch 182/200\n",
      "1257/1257 [==============================] - 1s 994us/step - loss: 2.5204e-04\n",
      "Epoch 183/200\n",
      "1257/1257 [==============================] - 1s 960us/step - loss: 2.5217e-04\n",
      "Epoch 184/200\n",
      "1257/1257 [==============================] - 1s 738us/step - loss: 2.5195e-04\n",
      "Epoch 185/200\n",
      "1257/1257 [==============================] - 1s 1ms/step - loss: 2.4903e-04\n",
      "Epoch 186/200\n",
      "1257/1257 [==============================] - 1s 973us/step - loss: 2.5153e-04\n",
      "Epoch 187/200\n",
      "1257/1257 [==============================] - 2s 1ms/step - loss: 2.5103e-04A: 0s - loss: 2.340\n",
      "Epoch 188/200\n",
      "1257/1257 [==============================] - 1s 889us/step - loss: 2.5320e-04\n",
      "Epoch 189/200\n",
      "1257/1257 [==============================] - 1s 948us/step - loss: 2.5057e-04 0s - loss:  - ETA: 0s - loss: 2.4589\n",
      "Epoch 190/200\n",
      "1257/1257 [==============================] - 1s 742us/step - loss: 2.5201e-04 0s - loss: 2.7781\n",
      "Epoch 191/200\n",
      "1257/1257 [==============================] - 1s 863us/step - loss: 2.5550e-04\n",
      "Epoch 192/200\n",
      "1257/1257 [==============================] - 1s 801us/step - loss: 2.5761e-04\n",
      "Epoch 193/200\n",
      "1257/1257 [==============================] - 1s 605us/step - loss: 2.5370e-04\n",
      "Epoch 194/200\n",
      "1257/1257 [==============================] - 1s 954us/step - loss: 2.5103e-04 0s - lo\n",
      "Epoch 195/200\n",
      "1257/1257 [==============================] - 1s 830us/step - loss: 2.4952e-04\n",
      "Epoch 196/200\n",
      "1257/1257 [==============================] - 1s 721us/step - loss: 2.5507e-04\n",
      "Epoch 197/200\n",
      "1257/1257 [==============================] - 1s 840us/step - loss: 2.5157e-04\n",
      "Epoch 198/200\n",
      "1257/1257 [==============================] - 1s 824us/step - loss: 2.5375e-04\n",
      "Epoch 199/200\n",
      "1257/1257 [==============================] - 1s 847us/step - loss: 2.5105e-04\n",
      "Epoch 200/200\n",
      "1257/1257 [==============================] - 1s 1ms/step - loss: 2.4996e-04\n"
     ]
    },
    {
     "data": {
      "text/plain": [
       "<keras.callbacks.History at 0x25a6003c710>"
      ]
     },
     "execution_count": 16,
     "metadata": {},
     "output_type": "execute_result"
    }
   ],
   "source": [
    "regressor.fit(x_train, y_train, batch_size = 32, epochs = 200 ) "
   ]
  },
  {
   "cell_type": "code",
   "execution_count": 17,
   "metadata": {},
   "outputs": [],
   "source": [
    "test_set = pd.read_csv(\"Google_Stock_price_Test.csv\")\n",
    "real_stock_price = test_set.iloc[:,1:2].values "
   ]
  },
  {
   "cell_type": "code",
   "execution_count": 18,
   "metadata": {},
   "outputs": [
    {
     "data": {
      "text/plain": [
       "array([[778.81],\n",
       "       [788.36],\n",
       "       [786.08],\n",
       "       [795.26],\n",
       "       [806.4 ],\n",
       "       [807.86],\n",
       "       [805.  ],\n",
       "       [807.14],\n",
       "       [807.48],\n",
       "       [807.08],\n",
       "       [805.81],\n",
       "       [805.12],\n",
       "       [806.91],\n",
       "       [807.25],\n",
       "       [822.3 ],\n",
       "       [829.62],\n",
       "       [837.81],\n",
       "       [834.71],\n",
       "       [814.66],\n",
       "       [796.86]])"
      ]
     },
     "execution_count": 18,
     "metadata": {},
     "output_type": "execute_result"
    }
   ],
   "source": [
    "real_stock_price "
   ]
  },
  {
   "cell_type": "code",
   "execution_count": 19,
   "metadata": {},
   "outputs": [],
   "source": [
    "inputs = real_stock_price\n",
    "inputs = sc.transform(inputs) "
   ]
  },
  {
   "cell_type": "code",
   "execution_count": 20,
   "metadata": {},
   "outputs": [
    {
     "data": {
      "text/plain": [
       "array([[0.92955205],\n",
       "       [0.94731751],\n",
       "       [0.94307612],\n",
       "       [0.96015329],\n",
       "       [0.98087655],\n",
       "       [0.98359253],\n",
       "       [0.97827219],\n",
       "       [0.98225314],\n",
       "       [0.98288563],\n",
       "       [0.98214153],\n",
       "       [0.979779  ],\n",
       "       [0.97849542],\n",
       "       [0.98182528],\n",
       "       [0.98245777],\n",
       "       [1.01045465],\n",
       "       [1.02407173],\n",
       "       [1.03930724],\n",
       "       [1.03354044],\n",
       "       [0.99624228],\n",
       "       [0.9631297 ]])"
      ]
     },
     "execution_count": 20,
     "metadata": {},
     "output_type": "execute_result"
    }
   ],
   "source": [
    "inputs "
   ]
  },
  {
   "cell_type": "code",
   "execution_count": 21,
   "metadata": {},
   "outputs": [],
   "source": [
    "inputs = np.reshape(inputs, (20,1,1))"
   ]
  },
  {
   "cell_type": "code",
   "execution_count": 22,
   "metadata": {},
   "outputs": [
    {
     "data": {
      "text/plain": [
       "array([[[0.92955205]],\n",
       "\n",
       "       [[0.94731751]],\n",
       "\n",
       "       [[0.94307612]],\n",
       "\n",
       "       [[0.96015329]],\n",
       "\n",
       "       [[0.98087655]],\n",
       "\n",
       "       [[0.98359253]],\n",
       "\n",
       "       [[0.97827219]],\n",
       "\n",
       "       [[0.98225314]],\n",
       "\n",
       "       [[0.98288563]],\n",
       "\n",
       "       [[0.98214153]],\n",
       "\n",
       "       [[0.979779  ]],\n",
       "\n",
       "       [[0.97849542]],\n",
       "\n",
       "       [[0.98182528]],\n",
       "\n",
       "       [[0.98245777]],\n",
       "\n",
       "       [[1.01045465]],\n",
       "\n",
       "       [[1.02407173]],\n",
       "\n",
       "       [[1.03930724]],\n",
       "\n",
       "       [[1.03354044]],\n",
       "\n",
       "       [[0.99624228]],\n",
       "\n",
       "       [[0.9631297 ]]])"
      ]
     },
     "execution_count": 22,
     "metadata": {},
     "output_type": "execute_result"
    }
   ],
   "source": [
    "inputs"
   ]
  },
  {
   "cell_type": "code",
   "execution_count": 23,
   "metadata": {},
   "outputs": [],
   "source": [
    "predicted_stock_price = regressor.predict(inputs) "
   ]
  },
  {
   "cell_type": "code",
   "execution_count": 24,
   "metadata": {},
   "outputs": [],
   "source": [
    "predicted_stock_price = sc.inverse_transform(predicted_stock_price)"
   ]
  },
  {
   "cell_type": "code",
   "execution_count": 25,
   "metadata": {},
   "outputs": [
    {
     "data": {
      "text/plain": [
       "array([[777.79407],\n",
       "       [787.0071 ],\n",
       "       [784.80865],\n",
       "       [793.6561 ],\n",
       "       [801.958  ],\n",
       "       [802.97266],\n",
       "       [800.9846 ],\n",
       "       [802.47235],\n",
       "       [802.7086 ],\n",
       "       [802.4307 ],\n",
       "       [801.54785],\n",
       "       [801.0682 ],\n",
       "       [802.3125 ],\n",
       "       [802.54877],\n",
       "       [812.98914],\n",
       "       [818.05347],\n",
       "       [823.7094 ],\n",
       "       [821.5699 ],\n",
       "       [807.6939 ],\n",
       "       [795.1972 ]], dtype=float32)"
      ]
     },
     "execution_count": 25,
     "metadata": {},
     "output_type": "execute_result"
    }
   ],
   "source": [
    "predicted_stock_price "
   ]
  },
  {
   "cell_type": "code",
   "execution_count": 29,
   "metadata": {},
   "outputs": [
    {
     "data": {
      "image/png": "[encoded data removed]",
      "text/plain": [
       "<Figure size 432x288 with 1 Axes>"
      ]
     },
     "metadata": {
      "needs_background": "light"
     },
     "output_type": "display_data"
    }
   ],
   "source": [
    "plt.plot(real_stock_price, color = \"red\", label = \"Real Google Stock Price\")\n",
    "plt.plot(predicted_stock_price, color = \"blue\", label = \"Predicted Google Stock Price\")\n",
    "plt.xlabel(\"Time\")\n",
    "plt.ylabel(\"Stock price\")\n",
    "plt.show()"
   ]
  },
  {
   "cell_type": "code",
   "execution_count": null,
   "metadata": {},
   "outputs": [],
   "source": []
  }
 ],
 "metadata": {
  "kernelspec": {
   "display_name": "Python 3",
   "language": "python",
   "name": "python3"
  },
  "language_info": {
   "codemirror_mode": {
    "name": "ipython",
    "version": 3
   },
   "file_extension": ".py",
   "mimetype": "text/x-python",
   "name": "python",
   "nbconvert_exporter": "python",
   "pygments_lexer": "ipython3",
   "version": "3.7.3"
  }
 },
 "nbformat": 4,
 "nbformat_minor": 2
}
